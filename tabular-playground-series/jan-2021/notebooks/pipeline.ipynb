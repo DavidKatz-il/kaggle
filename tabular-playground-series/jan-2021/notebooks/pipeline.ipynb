{
 "cells": [
  {
   "cell_type": "code",
   "execution_count": null,
   "metadata": {},
   "outputs": [],
   "source": [
    "import numpy as np\n",
    "import pandas as pd\n",
    "from math import sqrt\n",
    "from xgboost import XGBRegressor\n",
    "from lightgbm import LGBMRegressor\n",
    "from xgboost import plot_importance\n",
    "from sklearn.pipeline import Pipeline\n",
    "from sklearn.impute import SimpleImputer\n",
    "from sklearn.preprocessing import OneHotEncoder\n",
    "from sklearn.preprocessing import FunctionTransformer\n",
    "from sklearn.preprocessing import StandardScaler\n",
    "from sklearn.compose import ColumnTransformer\n",
    "from sklearn.ensemble import RandomForestRegressor\n",
    "from sklearn.ensemble import VotingRegressor\n",
    "from sklearn.metrics import make_scorer\n",
    "from sklearn.metrics import mean_squared_error\n",
    "from sklearn.metrics import mean_absolute_error\n",
    "from sklearn.model_selection import train_test_split\n",
    "from sklearn.model_selection import GridSearchCV\n",
    "from sklearn.model_selection import ParameterGrid\n",
    "from sklearn.model_selection import cross_val_score\n",
    "from sklearn.feature_selection import VarianceThreshold"
   ]
  },
  {
   "cell_type": "code",
   "execution_count": null,
   "metadata": {},
   "outputs": [],
   "source": [
    "data_dir = '../data'\n",
    "RANDOM_STATE  = 2021"
   ]
  },
  {
   "cell_type": "code",
   "execution_count": null,
   "metadata": {},
   "outputs": [],
   "source": [
    "df = pd.read_parquet(f\"{data_dir}/interim/train.parq\", engine='pyarrow').convert_dtypes()\n",
    "display(df.shape)\n",
    "df.head(2)"
   ]
  },
  {
   "cell_type": "code",
   "execution_count": null,
   "metadata": {},
   "outputs": [],
   "source": [
    "df = df.sample(frac=0.1)"
   ]
  },
  {
   "cell_type": "code",
   "execution_count": null,
   "metadata": {},
   "outputs": [],
   "source": [
    "X = df.copy()\n",
    "y = X.pop('target')"
   ]
  },
  {
   "cell_type": "code",
   "execution_count": null,
   "metadata": {},
   "outputs": [],
   "source": [
    "X_train, X_valid, y_train, y_valid = train_test_split(\n",
    "    X, y, train_size=0.8, test_size=0.2, random_state=RANDOM_STATE,\n",
    ")"
   ]
  },
  {
   "cell_type": "code",
   "execution_count": null,
   "metadata": {},
   "outputs": [],
   "source": [
    "preprocessor = Pipeline(steps=[\n",
    "    ('imputer', SimpleImputer()),\n",
    "    ('log', FunctionTransformer(np.log1p)),\n",
    "    ('scaler', StandardScaler()),\n",
    "])"
   ]
  },
  {
   "cell_type": "code",
   "execution_count": null,
   "metadata": {},
   "outputs": [],
   "source": [
    "pipeline = Pipeline([\n",
    "    ('preprocessor', preprocessor),\n",
    "    ('variance_drop', VarianceThreshold(threshold=(0.95 * (1 - 0.95)))),\n",
    "    ('voting', 'passthrough'),\n",
    "])\n",
    "\n",
    "parameters = [\n",
    "    {\n",
    "        'voting': [VotingRegressor([\n",
    "            ('lgbm', LGBMRegressor(random_state=RANDOM_STATE)),\n",
    "            ('xgb', XGBRegressor(random_state=RANDOM_STATE))\n",
    "        ])],\n",
    "        \n",
    "        # LGBM\n",
    "        'voting__lgbm__n_estimators': [2000], # range(500, 3000, 1000),\n",
    "        'voting__lgbm__max_depth': [12], # range(4, 16, 4),\n",
    "        'voting__lgbm__learning_rate': [0.01],\n",
    "        'voting__lgbm__num_leaves': [256],\n",
    "        'voting__lgbm__min_child_weight': [12],\n",
    "        'voting__lgbm__feature_fraction': [0.4],  # np.arange(0.1, 1, 0.1),\n",
    "        'voting__lgbm__bagging_fraction': [0.7],  # np.arange(0.1, 1, 0.1),\n",
    "        'voting__lgbm__bagging_freq': [5],\n",
    "        'voting__lgbm__min_child_samples': [32],\n",
    "        'voting__lgbm__lambda_l1':[9],\n",
    "        'voting__lgbm__lambda_l2': [0.13],               \n",
    "        \n",
    "        # XGBM\n",
    "        'voting__xgb__n_estimators': [2000],  # range(500, 3000, 1000),\n",
    "        'voting__xgb__max_depth': [12],  # range(4, 16, 4),\n",
    "        'voting__xgb__learning_rate': [0.01],\n",
    "        'voting__xgb__alpha': [5],\n",
    "        'voting__xgb__gamma': [3],\n",
    "        'voting__xgb__lambda': [3],\n",
    "        'voting__xgb__subsample': [0.8],\n",
    "        'voting__xgb__colsample_bytree': [0.4],\n",
    "    }\n",
    "]"
   ]
  },
  {
   "cell_type": "code",
   "execution_count": null,
   "metadata": {},
   "outputs": [],
   "source": [
    "3 * len(ParameterGrid(parameters))"
   ]
  },
  {
   "cell_type": "code",
   "execution_count": null,
   "metadata": {},
   "outputs": [],
   "source": [
    "custom_scoring = make_scorer(\n",
    "    score_func=lambda y, y_pred: mean_squared_error(y, y_pred, squared=False),\n",
    "    greater_is_better=False,\n",
    ")"
   ]
  },
  {
   "cell_type": "code",
   "execution_count": null,
   "metadata": {},
   "outputs": [],
   "source": [
    "grid_search = GridSearchCV(\n",
    "    pipeline,\n",
    "    param_grid=parameters,\n",
    "    cv=3,\n",
    "    scoring=custom_scoring,\n",
    "    n_jobs=-1,\n",
    "    verbose=True,\n",
    ")"
   ]
  },
  {
   "cell_type": "code",
   "execution_count": null,
   "metadata": {},
   "outputs": [],
   "source": [
    "grid_search.fit(X_train, y_train)"
   ]
  },
  {
   "cell_type": "code",
   "execution_count": null,
   "metadata": {},
   "outputs": [],
   "source": [
    "preds = grid_search.best_estimator_.predict(X_valid)\n",
    "mean_squared_error(y_valid, preds, squared=False) "
   ]
  },
  {
   "cell_type": "code",
   "execution_count": null,
   "metadata": {},
   "outputs": [],
   "source": [
    "abs(grid_search.best_score_)"
   ]
  },
  {
   "cell_type": "code",
   "execution_count": null,
   "metadata": {},
   "outputs": [],
   "source": [
    "grid_search.best_params_"
   ]
  },
  {
   "cell_type": "code",
   "execution_count": null,
   "metadata": {},
   "outputs": [],
   "source": [
    "for name, importance in zip(df.columns, grid_search.best_estimator_.named_steps[\"clf\"].feature_importances_):\n",
    "    if importance <= 0:\n",
    "        print(name)"
   ]
  },
  {
   "cell_type": "code",
   "execution_count": null,
   "metadata": {},
   "outputs": [],
   "source": [
    "# xgboost\n",
    "plot_importance(grid_search.best_estimator_.named_steps[\"clf\"]);"
   ]
  },
  {
   "cell_type": "markdown",
   "metadata": {},
   "source": [
    "### Submit"
   ]
  },
  {
   "cell_type": "code",
   "execution_count": null,
   "metadata": {},
   "outputs": [],
   "source": [
    "X_test = pd.read_parquet(f\"{data_dir}/interim/test.parq\", engine='pyarrow').convert_dtypes()\n",
    "display(X_test.shape)\n",
    "X_test.head(2)"
   ]
  },
  {
   "cell_type": "code",
   "execution_count": null,
   "metadata": {},
   "outputs": [],
   "source": [
    "preds_test = grid_search.best_estimator_.predict(X_test)"
   ]
  },
  {
   "cell_type": "code",
   "execution_count": null,
   "metadata": {},
   "outputs": [],
   "source": [
    "output = pd.DataFrame(\n",
    "    {'Id': X_test.index, 'target': preds_test})\n",
    "output.to_csv(f\"{data_dir}/processed/submission.csv\", index=False)"
   ]
  },
  {
   "cell_type": "code",
   "execution_count": null,
   "metadata": {},
   "outputs": [],
   "source": []
  }
 ],
 "metadata": {
  "kernelspec": {
   "display_name": "Python 3",
   "language": "python",
   "name": "python3"
  },
  "language_info": {
   "codemirror_mode": {
    "name": "ipython",
    "version": 3
   },
   "file_extension": ".py",
   "mimetype": "text/x-python",
   "name": "python",
   "nbconvert_exporter": "python",
   "pygments_lexer": "ipython3",
   "version": "3.7.9"
  }
 },
 "nbformat": 4,
 "nbformat_minor": 4
}
